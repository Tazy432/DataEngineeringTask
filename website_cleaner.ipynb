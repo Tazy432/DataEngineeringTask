{
 "cells": [
  {
   "cell_type": "code",
   "execution_count": 5,
   "metadata": {},
   "outputs": [
    {
     "ename": "TypeError",
     "evalue": "expected string or bytes-like object, got 'float'",
     "output_type": "error",
     "traceback": [
      "\u001b[1;31m---------------------------------------------------------------------------\u001b[0m",
      "\u001b[1;31mTypeError\u001b[0m                                 Traceback (most recent call last)",
      "Cell \u001b[1;32mIn[5], line 25\u001b[0m\n\u001b[0;32m     23\u001b[0m \u001b[38;5;28;01mfor\u001b[39;00m index,record \u001b[38;5;129;01min\u001b[39;00m df\u001b[38;5;241m.\u001b[39miterrows():\n\u001b[0;32m     24\u001b[0m     phoneNumber\u001b[38;5;241m=\u001b[39mrecord[\u001b[38;5;124m\"\u001b[39m\u001b[38;5;124mphone\u001b[39m\u001b[38;5;124m\"\u001b[39m]\n\u001b[1;32m---> 25\u001b[0m     \u001b[38;5;28;01mif\u001b[39;00m(\u001b[43mis_scientific_notation\u001b[49m\u001b[43m(\u001b[49m\u001b[43mphoneNumber\u001b[49m\u001b[43m)\u001b[49m):\n\u001b[0;32m     26\u001b[0m         phoneNumber\u001b[38;5;241m=\u001b[39mformat_phone_number(phoneNumber)\n\u001b[0;32m     27\u001b[0m     \u001b[38;5;28;01mif\u001b[39;00m(checkPhoneSimple(phoneNumber)\u001b[38;5;241m==\u001b[39m\u001b[38;5;28;01mFalse\u001b[39;00m):\n",
      "Cell \u001b[1;32mIn[5], line 8\u001b[0m, in \u001b[0;36mis_scientific_notation\u001b[1;34m(value)\u001b[0m\n\u001b[0;32m      6\u001b[0m \u001b[38;5;28;01mdef\u001b[39;00m \u001b[38;5;21mis_scientific_notation\u001b[39m(value):\n\u001b[0;32m      7\u001b[0m     pattern \u001b[38;5;241m=\u001b[39m \u001b[38;5;124mr\u001b[39m\u001b[38;5;124m'\u001b[39m\u001b[38;5;124m^\u001b[39m\u001b[38;5;124m\\\u001b[39m\u001b[38;5;124md+\u001b[39m\u001b[38;5;124m\\\u001b[39m\u001b[38;5;124m.?\u001b[39m\u001b[38;5;124m\\\u001b[39m\u001b[38;5;124md*E[+-]?\u001b[39m\u001b[38;5;124m\\\u001b[39m\u001b[38;5;124md+$\u001b[39m\u001b[38;5;124m'\u001b[39m\n\u001b[1;32m----> 8\u001b[0m     \u001b[38;5;28;01mreturn\u001b[39;00m \u001b[38;5;28mbool\u001b[39m(\u001b[43mre\u001b[49m\u001b[38;5;241;43m.\u001b[39;49m\u001b[43mmatch\u001b[49m\u001b[43m(\u001b[49m\u001b[43mpattern\u001b[49m\u001b[43m,\u001b[49m\u001b[43m \u001b[49m\u001b[43mvalue\u001b[49m\u001b[43m)\u001b[49m)\n",
      "File \u001b[1;32m~\\AppData\\Local\\Programs\\Python\\Python312\\Lib\\re\\__init__.py:167\u001b[0m, in \u001b[0;36mmatch\u001b[1;34m(pattern, string, flags)\u001b[0m\n\u001b[0;32m    164\u001b[0m \u001b[38;5;28;01mdef\u001b[39;00m \u001b[38;5;21mmatch\u001b[39m(pattern, string, flags\u001b[38;5;241m=\u001b[39m\u001b[38;5;241m0\u001b[39m):\n\u001b[0;32m    165\u001b[0m \u001b[38;5;250m    \u001b[39m\u001b[38;5;124;03m\"\"\"Try to apply the pattern at the start of the string, returning\u001b[39;00m\n\u001b[0;32m    166\u001b[0m \u001b[38;5;124;03m    a Match object, or None if no match was found.\"\"\"\u001b[39;00m\n\u001b[1;32m--> 167\u001b[0m     \u001b[38;5;28;01mreturn\u001b[39;00m \u001b[43m_compile\u001b[49m\u001b[43m(\u001b[49m\u001b[43mpattern\u001b[49m\u001b[43m,\u001b[49m\u001b[43m \u001b[49m\u001b[43mflags\u001b[49m\u001b[43m)\u001b[49m\u001b[38;5;241;43m.\u001b[39;49m\u001b[43mmatch\u001b[49m\u001b[43m(\u001b[49m\u001b[43mstring\u001b[49m\u001b[43m)\u001b[49m\n",
      "\u001b[1;31mTypeError\u001b[0m: expected string or bytes-like object, got 'float'"
     ]
    }
   ],
   "source": [
    "import pandas as pd\n",
    "import re\n",
    "\n",
    "# Read the dataset with specified parameters\n",
    "df = pd.read_csv(\"website_dataset.csv\", dtype=str, delimiter=';', quotechar='\"', on_bad_lines=\"warn\", engine=\"python\")\n",
    "\n",
    "def is_scientific_notation(value):\n",
    "    # Check if the value is a string before matching\n",
    "    if isinstance(value, str):\n",
    "        pattern = r'^\\d+\\.?\\d*E[+-]?\\d+$'\n",
    "        return bool(re.match(pattern, value))\n",
    "    return False\n",
    "\n",
    "def format_phone_number(sci_notation):\n",
    "    try:\n",
    "        phone_number = float(sci_notation)  # Convert scientific notation to float\n",
    "        phone_str = str(int(phone_number))    # Convert float to int then to string\n",
    "        if len(phone_str) >= 10:\n",
    "            # Format the phone number into segments\n",
    "            return f\"{phone_str[:3]}{phone_str[3:6]}{phone_str[6:]}\"\n",
    "        else:\n",
    "            return \"Invalid phone number length\"\n",
    "    except ValueError:\n",
    "        return \"Invalid input\"  # Handle any conversion errors\n",
    "\n",
    "def checkPhoneSimple(simplePhone):\n",
    "    return len(simplePhone) == 11  # Return True or False based on length\n",
    "\n",
    "for index, record in df.iterrows():\n",
    "    phoneNumber = record[\"phone\"]\n",
    "    \n",
    "    # Handle scientific notation and formatting\n",
    "    if is_scientific_notation(phoneNumber):\n",
    "        phoneNumber = format_phone_number(phoneNumber)\n",
    "        \n",
    "    # Check the validity of the phone number\n",
    "    if not checkPhoneSimple(phoneNumber):\n",
    "        phoneNumber = \"WRONG\"\n",
    "    \n",
    "    # Update the DataFrame\n",
    "    df.at[index, \"phone\"] = \"+\" + phoneNumber if phoneNumber != \"WRONG\" else \"WRONG\"\n",
    "\n",
    "# Save the processed DataFrame to a new CSV file\n",
    "df.to_csv(\"website.csv\", encoding=\"utf-8-sig\", index=False)\n"
   ]
  }
 ],
 "metadata": {
  "kernelspec": {
   "display_name": "venv",
   "language": "python",
   "name": "python3"
  },
  "language_info": {
   "codemirror_mode": {
    "name": "ipython",
    "version": 3
   },
   "file_extension": ".py",
   "mimetype": "text/x-python",
   "name": "python",
   "nbconvert_exporter": "python",
   "pygments_lexer": "ipython3",
   "version": "3.12.6"
  }
 },
 "nbformat": 4,
 "nbformat_minor": 2
}
